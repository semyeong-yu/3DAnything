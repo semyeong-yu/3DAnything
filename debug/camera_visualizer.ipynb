{
 "cells": [
  {
   "cell_type": "markdown",
   "id": "300ac466",
   "metadata": {},
   "source": [
    "- camera coordinate의 검증\n",
    "- dataset의 skeleton에 대한 검증\n",
    "    - 몇개의 class로 구성이 되어있는지\n",
    "    - class 당 몇개의 image로 구성이 되어 있는 지\n",
    "    - 필요한 것 LLM을 통하여 vision conditioned caption을 다양하게 뽑아줄 필요가 있다. 다만, 어느 정도 성능이 좋은 것으로 pipelining해서 해야한다.\n",
    "    - 이후에 dataloader 구조에 대해서 dataframe으로 composite하기\n"
   ]
  },
  {
   "cell_type": "code",
   "execution_count": 41,
   "id": "d0161f3c",
   "metadata": {},
   "outputs": [],
   "source": [
    "import numpy as np\n",
    "import matplotlib.pyplot as plt\n",
    "from mpl_toolkits.mplot3d import Axes3D\n",
    "\n",
    "\n",
    "import plotly.graph_objects as go\n",
    "import numpy as np\n",
    "import pandas as pd\n",
    "import os"
   ]
  },
  {
   "cell_type": "code",
   "execution_count": null,
   "id": "53e44a87",
   "metadata": {},
   "outputs": [],
   "source": [
    "def plot_cameras_and_object(object_pos, cameras, axis_lim:float = 1.0):\n",
    "    \"\"\"\n",
    "    세계 좌표계에서 (0,0,0)에 있는 객체와 여러 카메라의 위치 및 방향을 플롯합니다.\n",
    "    각 카메라의 xyz 좌표계도 표시됩니다.\n",
    "\n",
    "    Parameters:\n",
    "    - cameras: [R|t] 행렬(3x4 NumPy 배열)의 리스트\n",
    "    \"\"\"\n",
    "    # 객체 위치\n",
    "\n",
    "    # 플롯 요소를 저장할 리스트\n",
    "    data = []\n",
    "\n",
    "    # 객체 플롯\n",
    "    # object_pos = [0, 0, 0]\n",
    "    data.append(go.Scatter3d(\n",
    "        x=[object_pos[0]], y=[object_pos[1]], z=[object_pos[2]],\n",
    "        mode='markers',\n",
    "        marker=dict(size=5, color='red'),\n",
    "        name='객체'\n",
    "    ))\n",
    "\n",
    "    # 카메라 플롯\n",
    "    for i, RT in enumerate(cameras):\n",
    "        R = RT[:, :3]\n",
    "        t = RT[:, 3]\n",
    "        C = -np.dot(R.T, t)\n",
    "\n",
    "        x_dir = np.dot(R.T, [1, 0, 0])\n",
    "        y_dir = np.dot(R.T, [0, 1, 0])\n",
    "        z_dir = np.dot(R.T, [0, 0, 1])\n",
    "\n",
    "        arrow_length = 0.5\n",
    "\n",
    "        data.append(go.Scatter3d(\n",
    "            x=[C[0]], y=[C[1]], z=[C[2]],\n",
    "            mode='markers',\n",
    "            marker=dict(size=3, color='blue'),\n",
    "            name=f'카메라 {i+1} (위치: {C[0]:.2f}, {C[1]:.2f}, {C[2]:.2f})'\n",
    "        ))\n",
    "\n",
    "        arrow_end_x = C + arrow_length * x_dir\n",
    "        data.append(go.Scatter3d(\n",
    "            x=[C[0], arrow_end_x[0]],\n",
    "            y=[C[1], arrow_end_x[1]],\n",
    "            z=[C[2], arrow_end_x[2]],\n",
    "            mode='lines',\n",
    "            line=dict(color='red', width=2),\n",
    "            showlegend=False\n",
    "        ))\n",
    "\n",
    "        arrow_end_y = C + arrow_length * y_dir\n",
    "        data.append(go.Scatter3d(\n",
    "            x=[C[0], arrow_end_y[0]],\n",
    "            y=[C[1], arrow_end_y[1]],\n",
    "            z=[C[2], arrow_end_y[2]],\n",
    "            mode='lines',\n",
    "            line=dict(color='green', width=2),\n",
    "            showlegend=False\n",
    "        ))\n",
    "\n",
    "        arrow_end_z = C + arrow_length * z_dir\n",
    "        data.append(go.Scatter3d(\n",
    "            x=[C[0], arrow_end_z[0]],\n",
    "            y=[C[1], arrow_end_z[1]],\n",
    "            z=[C[2], arrow_end_z[2]],\n",
    "            mode='lines',\n",
    "            line=dict(color='blue', width=2),\n",
    "            showlegend=False\n",
    "        ))\n",
    "\n",
    "        data.append(go.Scatter3d(\n",
    "            x=[arrow_end_x[0], arrow_end_y[0], arrow_end_z[0]],\n",
    "            y=[arrow_end_x[1], arrow_end_y[1], arrow_end_z[1]],\n",
    "            z=[arrow_end_x[2], arrow_end_y[2], arrow_end_z[2]],\n",
    "            mode='text',\n",
    "            text=['X', 'Y', 'Z'],\n",
    "            textposition='top center',\n",
    "            showlegend=False\n",
    "        ))\n",
    "\n",
    "    fig = go.Figure(data=data)\n",
    "\n",
    "    fig.update_layout(\n",
    "        scene=dict(\n",
    "            xaxis=dict(title='X'),  # x축 범위 설정\n",
    "            yaxis=dict(title='Y'),  # y축 범위 설정\n",
    "            zaxis=dict(title='Z'),  # z축 범위 설정\n",
    "            aspectmode='cube',                     # 축 비율을 동일하게 유지\n",
    "            camera=dict(projection=dict(type='orthographic'))  # 직교 투영 사용\n",
    "        ),\n",
    "        title='세계 좌표계에서 객체와 카메라 (카메라 xyz 좌표계 포함)'\n",
    "    )\n",
    "\n",
    "    fig.show()"
   ]
  },
  {
   "cell_type": "code",
   "execution_count": 43,
   "id": "bf11fcd1",
   "metadata": {},
   "outputs": [],
   "source": [
    "data_root = \"/workspace/data/3ddst/train\"\n",
    "df_path = \"/workspace/code/3DAnything/debug/data/3ddst.csv\"\n",
    "df = pd.read_csv(df_path)"
   ]
  },
  {
   "cell_type": "code",
   "execution_count": 133,
   "id": "f8ba6c7a",
   "metadata": {},
   "outputs": [],
   "source": [
    "meta_class_name = \"n02100735\"\n",
    "class_name = \"78c2ceb1e51149698c6a8e6242d5dbb2\"\n",
    "dataset_type = \"annotation\"\n",
    "\n",
    "camera_results = df[(df[\"meta_class\"] == meta_class_name) & (df[\"class\"] == class_name) & (df[\"dataset_type\"] == dataset_type)]\n",
    "camera_results_path = []\n",
    "matrix_world = []\n",
    "matrix_raw = []\n",
    "object_pos: np.ndarray = np.zeros(3)\n",
    "\n",
    "for idx, each_base_name in enumerate(camera_results[\"base_name\"].values):\n",
    "    each_path = os.path.join(\n",
    "        data_root, meta_class_name, class_name, dataset_type, each_base_name\n",
    "    )\n",
    "    camera_results_path.append(each_path)\n",
    "    data = np.load(each_path, allow_pickle=True).item()\n",
    "    if idx == 0:\n",
    "        object_pos = data[\"rendering_offset\"]\n",
    "    \n",
    "    # _mat = data[\"modelview_matrix\"] \n",
    "    _mat = np.linalg.inv(data[\"matrix_world\"]) \n",
    "    matrix_world.append(_mat[:3])\n",
    "    matrix_raw.append(np.load(each_path, allow_pickle=True).item())\n",
    "    "
   ]
  },
  {
   "cell_type": "code",
   "execution_count": 92,
   "id": "42141962",
   "metadata": {},
   "outputs": [
    {
     "data": {
      "text/plain": [
       "['/workspace/data/3ddst/train/n02100735/78c2ceb1e51149698c6a8e6242d5dbb2/annotation/000.npy',\n",
       " '/workspace/data/3ddst/train/n02100735/78c2ceb1e51149698c6a8e6242d5dbb2/annotation/001.npy',\n",
       " '/workspace/data/3ddst/train/n02100735/78c2ceb1e51149698c6a8e6242d5dbb2/annotation/002.npy',\n",
       " '/workspace/data/3ddst/train/n02100735/78c2ceb1e51149698c6a8e6242d5dbb2/annotation/003.npy',\n",
       " '/workspace/data/3ddst/train/n02100735/78c2ceb1e51149698c6a8e6242d5dbb2/annotation/004.npy',\n",
       " '/workspace/data/3ddst/train/n02100735/78c2ceb1e51149698c6a8e6242d5dbb2/annotation/005.npy',\n",
       " '/workspace/data/3ddst/train/n02100735/78c2ceb1e51149698c6a8e6242d5dbb2/annotation/006.npy']"
      ]
     },
     "execution_count": 92,
     "metadata": {},
     "output_type": "execute_result"
    }
   ],
   "source": [
    "camera_results_path"
   ]
  },
  {
   "cell_type": "code",
   "execution_count": 117,
   "id": "99068f29",
   "metadata": {},
   "outputs": [
    {
     "data": {
      "text/plain": [
       "dict_keys(['theta', 'phi', 'dist', 'camera_rotation', 'principal', 'source', 'shape_id', 'rendering_scale', 'rendering_offset', 'azimuth', 'elevation', 'pose_sampling', 'strength', 'matrix_world', 'modelview_matrix', 'projection_matrix', 'focal_length', 'sensor_width', 'sensor_height'])"
      ]
     },
     "execution_count": 117,
     "metadata": {},
     "output_type": "execute_result"
    }
   ],
   "source": [
    "matrix_raw[0].keys()"
   ]
  },
  {
   "cell_type": "code",
   "execution_count": 114,
   "id": "c917729b",
   "metadata": {},
   "outputs": [
    {
     "data": {
      "text/plain": [
       "{'theta': 1.8055418083264432,\n",
       " 'phi': 1.632716827196733,\n",
       " 'dist': 1.5,\n",
       " 'camera_rotation': 0.0,\n",
       " 'principal': array([256, 256]),\n",
       " 'source': 'objaverse',\n",
       " 'shape_id': '78c2ceb1e51149698c6a8e6242d5dbb2',\n",
       " 'rendering_scale': 2.1698285072504087,\n",
       " 'rendering_offset': array([ 1.26503408e-04,  3.67745757e-04, -4.72724557e-01]),\n",
       " 'azimuth': 0.0,\n",
       " 'elevation': 0.0,\n",
       " 'pose_sampling': 1,\n",
       " 'strength': 1,\n",
       " 'matrix_world': array([[-2.11031818e+00, -3.12308297e-02, -5.03725410e-01,\n",
       "         -3.48224550e-01],\n",
       "        [-5.04692674e-01,  1.30588591e-01,  2.10627341e+00,\n",
       "          1.45606446e+00],\n",
       "        [ 5.81780206e-08,  2.16566992e+00, -1.34271160e-01,\n",
       "         -9.28214118e-02],\n",
       "        [ 0.00000000e+00,  0.00000000e+00,  0.00000000e+00,\n",
       "          1.00000000e+00]]),\n",
       " 'modelview_matrix': array([[-4.48225915e-01, -1.07195385e-01,  1.16690053e-08,\n",
       "          1.14169815e-07],\n",
       "        [-6.63334690e-03,  2.77366806e-02,  4.59982783e-01,\n",
       "         -4.05682563e-08],\n",
       "        [-1.06989965e-01,  4.47366983e-01, -2.85188481e-02,\n",
       "         -6.91298902e-01],\n",
       "        [ 0.00000000e+00,  0.00000000e+00, -0.00000000e+00,\n",
       "          1.00000000e+00]]),\n",
       " 'projection_matrix': array([[ 2.1875   ,  0.       ,  0.       ,  0.       ],\n",
       "        [ 0.       ,  2.1875   ,  0.       ,  0.       ],\n",
       "        [ 0.       ,  0.       , -1.002002 , -0.2002002],\n",
       "        [ 0.       ,  0.       , -1.       ,  0.       ]]),\n",
       " 'focal_length': 35.0,\n",
       " 'sensor_width': 32.0,\n",
       " 'sensor_height': 24.0}"
      ]
     },
     "execution_count": 114,
     "metadata": {},
     "output_type": "execute_result"
    }
   ],
   "source": [
    "matrix_raw[3]"
   ]
  },
  {
   "cell_type": "code",
   "execution_count": null,
   "id": "42497a0f",
   "metadata": {},
   "outputs": [
    {
     "data": {
      "application/vnd.plotly.v1+json": {
       "config": {
        "plotlyServerURL": "https://plot.ly"
       },
       "data": [
        {
         "marker": {
          "color": "red",
          "size": 5
         },
         "mode": "markers",
         "name": "객체",
         "type": "scatter3d",
         "x": [
          0.00012650340795516968
         ],
         "y": [
          0.0003677457571029663
         ],
         "z": [
          -0.4727245569229126
         ]
        },
        {
         "marker": {
          "color": "blue",
          "size": 3
         },
         "mode": "markers",
         "name": "카메라 1 (위치: 0.27, -0.17, 0.03)",
         "type": "scatter3d",
         "x": [
          0.2696364317261948
         ],
         "y": [
          -0.16750336221783263
         ],
         "z": [
          0.027245992203201834
         ]
        },
        {
         "line": {
          "color": "red",
          "width": 2
         },
         "mode": "lines",
         "showlegend": false,
         "type": "scatter3d",
         "x": [
          0.2696364317261948,
          0.3912330333055505
         ],
         "y": [
          -0.16750336221783263,
          0.028235276654752978
         ],
         "z": [
          0.027245992203201834,
          0.02724597904530637
         ]
        },
        {
         "line": {
          "color": "green",
          "width": 2
         },
         "mode": "lines",
         "showlegend": false,
         "type": "scatter3d",
         "x": [
          0.2696364317261948,
          0.2528970197967129
         ],
         "y": [
          -0.16750336221783263,
          -0.1571045028110616
         ],
         "z": [
          0.027245992203201834,
          0.2568347718770985
         ]
        },
        {
         "line": {
          "color": "blue",
          "width": 2
         },
         "mode": "lines",
         "showlegend": false,
         "type": "scatter3d",
         "x": [
          0.2696364317261948,
          0.46465800832906823
         ],
         "y": [
          -0.16750336221783263,
          -0.2886545166847516
         ],
         "z": [
          0.027245992203201834,
          0.04695244390235849
         ]
        },
        {
         "mode": "text",
         "showlegend": false,
         "text": [
          "X",
          "Y",
          "Z"
         ],
         "textposition": "top center",
         "type": "scatter3d",
         "x": [
          0.3912330333055505,
          0.2528970197967129,
          0.46465800832906823
         ],
         "y": [
          0.028235276654752978,
          -0.1571045028110616,
          -0.2886545166847516
         ],
         "z": [
          0.02724597904530637,
          0.2568347718770985,
          0.04695244390235849
         ]
        },
        {
         "marker": {
          "color": "blue",
          "size": 3
         },
         "mode": "markers",
         "name": "카메라 2 (위치: -0.28, 0.15, -0.04)",
         "type": "scatter3d",
         "x": [
          -0.2803169667997605
         ],
         "y": [
          0.14723123003444943
         ],
         "z": [
          -0.03533978496797444
         ]
        },
        {
         "line": {
          "color": "red",
          "width": 2
         },
         "mode": "lines",
         "showlegend": false,
         "type": "scatter3d",
         "x": [
          -0.2803169667997605,
          -0.3874670374734077
         ],
         "y": [
          0.14723123003444943,
          -0.0567741938586285
         ],
         "z": [
          -0.03533978496797444,
          -0.03533979523610268
         ]
        },
        {
         "line": {
          "color": "green",
          "width": 2
         },
         "mode": "lines",
         "showlegend": false,
         "type": "scatter3d",
         "x": [
          -0.2803169667997605,
          -0.3029459628502234
         ],
         "y": [
          0.14723123003444943,
          0.15911667848900363
         ],
         "z": [
          -0.03533978496797444,
          0.19367116315113922
         ]
        },
        {
         "line": {
          "color": "blue",
          "width": 2
         },
         "mode": "lines",
         "showlegend": false,
         "type": "scatter3d",
         "x": [
          -0.2803169667997605,
          -0.48306349533364984
         ],
         "y": [
          0.14723123003444943,
          0.25372008372949967
         ],
         "z": [
          -0.03533978496797444,
          -0.06090021362787833
         ]
        },
        {
         "mode": "text",
         "showlegend": false,
         "text": [
          "X",
          "Y",
          "Z"
         ],
         "textposition": "top center",
         "type": "scatter3d",
         "x": [
          -0.3874670374734077,
          -0.3029459628502234,
          -0.48306349533364984
         ],
         "y": [
          -0.0567741938586285,
          0.15911667848900363,
          0.25372008372949967
         ],
         "z": [
          -0.03533979523610268,
          0.19367116315113922,
          -0.06090021362787833
         ]
        },
        {
         "marker": {
          "color": "blue",
          "size": 3
         },
         "mode": "markers",
         "name": "카메라 3 (위치: 0.29, -0.12, 0.03)",
         "type": "scatter3d",
         "x": [
          0.29475995839887636
         ],
         "y": [
          -0.11762392594539889
         ],
         "z": [
          0.02801252674622299
         ]
        },
        {
         "line": {
          "color": "red",
          "width": 2
         },
         "mode": "lines",
         "showlegend": false,
         "type": "scatter3d",
         "x": [
          0.29475995839887636,
          0.38016535622200337
         ],
         "y": [
          -0.11762392594539889,
          0.09639771334484215
         ],
         "z": [
          0.02801252674622299,
          0.028012541099411883
         ]
        },
        {
         "line": {
          "color": "green",
          "width": 2
         },
         "mode": "lines",
         "showlegend": false,
         "type": "scatter3d",
         "x": [
          0.29475995839887636,
          0.27594213398530004
         ],
         "y": [
          -0.11762392594539889,
          -0.11011468300919115
         ],
         "z": [
          0.02801252674622299,
          0.2575530568651837
         ]
        },
        {
         "line": {
          "color": "blue",
          "width": 2
         },
         "mode": "lines",
         "showlegend": false,
         "type": "scatter3d",
         "x": [
          0.29475995839887636,
          0.5079527507492336
         ],
         "y": [
          -0.11762392594539889,
          -0.20269857847539854
         ],
         "z": [
          0.02801252674622299,
          0.04827330939566968
         ]
        },
        {
         "mode": "text",
         "showlegend": false,
         "text": [
          "X",
          "Y",
          "Z"
         ],
         "textposition": "top center",
         "type": "scatter3d",
         "x": [
          0.38016535622200337,
          0.27594213398530004,
          0.5079527507492336
         ],
         "y": [
          0.09639771334484215,
          -0.11011468300919115,
          -0.20269857847539854
         ],
         "z": [
          0.028012541099411883,
          0.2575530568651837,
          0.04827330939566968
         ]
        },
        {
         "marker": {
          "color": "blue",
          "size": 3
         },
         "mode": "markers",
         "name": "카메라 4 (위치: -0.07, 0.31, -0.02)",
         "type": "scatter3d",
         "x": [
          -0.07396197847120747
         ],
         "y": [
          0.30926429739452854
         ],
         "z": [
          -0.019715027769300453
         ]
        },
        {
         "line": {
          "color": "red",
          "width": 2
         },
         "mode": "lines",
         "showlegend": false,
         "type": "scatter3d",
         "x": [
          -0.07396197847120747,
          -0.2980749309609285
         ],
         "y": [
          0.30926429739452854,
          0.2556666080992667
         ],
         "z": [
          -0.019715027769300453,
          -0.019715021633424867
         ]
        },
        {
         "line": {
          "color": "green",
          "width": 2
         },
         "mode": "lines",
         "showlegend": false,
         "type": "scatter3d",
         "x": [
          -0.07396197847120747,
          -0.07727865169164252
         ],
         "y": [
          0.30926429739452854,
          0.3231326365889484
         ],
         "z": [
          -0.019715027769300453,
          0.21027633264700057
         ]
        },
        {
         "line": {
          "color": "blue",
          "width": 2
         },
         "mode": "lines",
         "showlegend": false,
         "type": "scatter3d",
         "x": [
          -0.07396197847120747,
          -0.12745695440189572
         ],
         "y": [
          0.30926429739452854,
          0.5329477893705824
         ],
         "z": [
          -0.019715027769300453,
          -0.03397445128182636
         ]
        },
        {
         "mode": "text",
         "showlegend": false,
         "text": [
          "X",
          "Y",
          "Z"
         ],
         "textposition": "top center",
         "type": "scatter3d",
         "x": [
          -0.2980749309609285,
          -0.07727865169164252,
          -0.12745695440189572
         ],
         "y": [
          0.2556666080992667,
          0.3231326365889484,
          0.5329477893705824
         ],
         "z": [
          -0.019715021633424867,
          0.21027633264700057,
          -0.03397445128182636
         ]
        },
        {
         "marker": {
          "color": "blue",
          "size": 3
         },
         "mode": "markers",
         "name": "카메라 5 (위치: -0.26, 0.12, -0.14)",
         "type": "scatter3d",
         "x": [
          -0.26261005215617633
         ],
         "y": [
          0.11576750672306578
         ],
         "z": [
          -0.13833778112847597
         ]
        },
        {
         "line": {
          "color": "red",
          "width": 2
         },
         "mode": "lines",
         "showlegend": false,
         "type": "scatter3d",
         "x": [
          -0.26261005215617633,
          -0.3555616358172944
         ],
         "y": [
          0.11576750672306578,
          -0.09508628145628413
         ],
         "z": [
          -0.13833778112847597,
          -0.13833778691179466
         ]
        },
        {
         "line": {
          "color": "green",
          "width": 2
         },
         "mode": "lines",
         "showlegend": false,
         "type": "scatter3d",
         "x": [
          -0.26261005215617633,
          -0.3541650234954286
         ],
         "y": [
          0.11576750672306578,
          0.15612807388486202
         ],
         "z": [
          -0.13833778112847597,
          0.06923885749843917
         ]
        },
        {
         "line": {
          "color": "blue",
          "width": 2
         },
         "mode": "lines",
         "showlegend": false,
         "type": "scatter3d",
         "x": [
          -0.26261005215617633,
          -0.45254962227465656
         ],
         "y": [
          0.11576750672306578,
          0.19949938361647357
         ],
         "z": [
          -0.13833778112847597,
          -0.23839420035008269
         ]
        },
        {
         "mode": "text",
         "showlegend": false,
         "text": [
          "X",
          "Y",
          "Z"
         ],
         "textposition": "top center",
         "type": "scatter3d",
         "x": [
          -0.3555616358172944,
          -0.3541650234954286,
          -0.45254962227465656
         ],
         "y": [
          -0.09508628145628413,
          0.15612807388486202,
          0.19949938361647357
         ],
         "z": [
          -0.13833778691179466,
          0.06923885749843917,
          -0.23839420035008269
         ]
        },
        {
         "marker": {
          "color": "blue",
          "size": 3
         },
         "mode": "markers",
         "name": "카메라 6 (위치: -0.21, 0.21, -0.11)",
         "type": "scatter3d",
         "x": [
          -0.21386090398425453
         ],
         "y": [
          0.20889339713276356
         ],
         "z": [
          -0.11013879468277442
         ]
        },
        {
         "line": {
          "color": "red",
          "width": 2
         },
         "mode": "lines",
         "showlegend": false,
         "type": "scatter3d",
         "x": [
          -0.21386090398425453,
          -0.3748758499265166
         ],
         "y": [
          0.20889339713276356,
          0.04404952262371681
         ],
         "z": [
          -0.11013879468277442,
          -0.11013881665361715
         ]
        },
        {
         "line": {
          "color": "green",
          "width": 2
         },
         "mode": "lines",
         "showlegend": false,
         "type": "scatter3d",
         "x": [
          -0.21386090398425453,
          -0.27084752238141063
         ],
         "y": [
          0.20889339713276356,
          0.26455632385794314
         ],
         "z": [
          -0.11013879468277442,
          0.10608687020443049
         ]
        },
        {
         "line": {
          "color": "blue",
          "width": 2
         },
         "mode": "lines",
         "showlegend": false,
         "type": "scatter3d",
         "x": [
          -0.21386090398425453,
          -0.36854138361734123
         ],
         "y": [
          0.20889339713276356,
          0.35998102056366366
         ],
         "z": [
          -0.11013879468277442,
          -0.18979953066508873
         ]
        },
        {
         "mode": "text",
         "showlegend": false,
         "text": [
          "X",
          "Y",
          "Z"
         ],
         "textposition": "top center",
         "type": "scatter3d",
         "x": [
          -0.3748758499265166,
          -0.27084752238141063,
          -0.36854138361734123
         ],
         "y": [
          0.04404952262371681,
          0.26455632385794314,
          0.35998102056366366
         ],
         "z": [
          -0.11013881665361715,
          0.10608687020443049,
          -0.18979953066508873
         ]
        },
        {
         "marker": {
          "color": "blue",
          "size": 3
         },
         "mode": "markers",
         "name": "카메라 7 (위치: -0.31, 0.00, -0.05)",
         "type": "scatter3d",
         "x": [
          -0.31387158301198015
         ],
         "y": [
          0.0002891920773890521
         ],
         "z": [
          -0.05466323614026843
         ]
        },
        {
         "line": {
          "color": "red",
          "width": 2
         },
         "mode": "lines",
         "showlegend": false,
         "type": "scatter3d",
         "x": [
          -0.31387158301198015,
          -0.31408385174984715
         ],
         "y": [
          0.0002891920773890521,
          -0.23014360492237304
         ],
         "z": [
          -0.05466323614026843,
          -0.054663292369385455
         ]
        },
        {
         "line": {
          "color": "green",
          "width": 2
         },
         "mode": "lines",
         "showlegend": false,
         "type": "scatter3d",
         "x": [
          -0.31387158301198015,
          -0.3534081646706836
         ],
         "y": [
          0.0002891920773890521,
          0.0003255567623887094
         ],
         "z": [
          -0.05466323614026843,
          0.1723526857100628
         ]
        },
        {
         "line": {
          "color": "blue",
          "width": 2
         },
         "mode": "lines",
         "showlegend": false,
         "type": "scatter3d",
         "x": [
          -0.31387158301198015,
          -0.5408873881668934
         ],
         "y": [
          0.0002891920773890521,
          0.0004983228137871145
         ],
         "z": [
          -0.05466323614026843,
          -0.09419983542129767
         ]
        },
        {
         "mode": "text",
         "showlegend": false,
         "text": [
          "X",
          "Y",
          "Z"
         ],
         "textposition": "top center",
         "type": "scatter3d",
         "x": [
          -0.31408385174984715,
          -0.3534081646706836,
          -0.5408873881668934
         ],
         "y": [
          -0.23014360492237304,
          0.0003255567623887094,
          0.0004983228137871145
         ],
         "z": [
          -0.054663292369385455,
          0.1723526857100628,
          -0.09419983542129767
         ]
        }
       ],
       "layout": {
        "scene": {
         "aspectmode": "cube",
         "camera": {
          "projection": {
           "type": "orthographic"
          }
         },
         "xaxis": {
          "title": {
           "text": "X"
          }
         },
         "yaxis": {
          "title": {
           "text": "Y"
          }
         },
         "zaxis": {
          "title": {
           "text": "Z"
          }
         }
        },
        "template": {
         "data": {
          "bar": [
           {
            "error_x": {
             "color": "#2a3f5f"
            },
            "error_y": {
             "color": "#2a3f5f"
            },
            "marker": {
             "line": {
              "color": "#E5ECF6",
              "width": 0.5
             },
             "pattern": {
              "fillmode": "overlay",
              "size": 10,
              "solidity": 0.2
             }
            },
            "type": "bar"
           }
          ],
          "barpolar": [
           {
            "marker": {
             "line": {
              "color": "#E5ECF6",
              "width": 0.5
             },
             "pattern": {
              "fillmode": "overlay",
              "size": 10,
              "solidity": 0.2
             }
            },
            "type": "barpolar"
           }
          ],
          "carpet": [
           {
            "aaxis": {
             "endlinecolor": "#2a3f5f",
             "gridcolor": "white",
             "linecolor": "white",
             "minorgridcolor": "white",
             "startlinecolor": "#2a3f5f"
            },
            "baxis": {
             "endlinecolor": "#2a3f5f",
             "gridcolor": "white",
             "linecolor": "white",
             "minorgridcolor": "white",
             "startlinecolor": "#2a3f5f"
            },
            "type": "carpet"
           }
          ],
          "choropleth": [
           {
            "colorbar": {
             "outlinewidth": 0,
             "ticks": ""
            },
            "type": "choropleth"
           }
          ],
          "contour": [
           {
            "colorbar": {
             "outlinewidth": 0,
             "ticks": ""
            },
            "colorscale": [
             [
              0,
              "#0d0887"
             ],
             [
              0.1111111111111111,
              "#46039f"
             ],
             [
              0.2222222222222222,
              "#7201a8"
             ],
             [
              0.3333333333333333,
              "#9c179e"
             ],
             [
              0.4444444444444444,
              "#bd3786"
             ],
             [
              0.5555555555555556,
              "#d8576b"
             ],
             [
              0.6666666666666666,
              "#ed7953"
             ],
             [
              0.7777777777777778,
              "#fb9f3a"
             ],
             [
              0.8888888888888888,
              "#fdca26"
             ],
             [
              1,
              "#f0f921"
             ]
            ],
            "type": "contour"
           }
          ],
          "contourcarpet": [
           {
            "colorbar": {
             "outlinewidth": 0,
             "ticks": ""
            },
            "type": "contourcarpet"
           }
          ],
          "heatmap": [
           {
            "colorbar": {
             "outlinewidth": 0,
             "ticks": ""
            },
            "colorscale": [
             [
              0,
              "#0d0887"
             ],
             [
              0.1111111111111111,
              "#46039f"
             ],
             [
              0.2222222222222222,
              "#7201a8"
             ],
             [
              0.3333333333333333,
              "#9c179e"
             ],
             [
              0.4444444444444444,
              "#bd3786"
             ],
             [
              0.5555555555555556,
              "#d8576b"
             ],
             [
              0.6666666666666666,
              "#ed7953"
             ],
             [
              0.7777777777777778,
              "#fb9f3a"
             ],
             [
              0.8888888888888888,
              "#fdca26"
             ],
             [
              1,
              "#f0f921"
             ]
            ],
            "type": "heatmap"
           }
          ],
          "histogram": [
           {
            "marker": {
             "pattern": {
              "fillmode": "overlay",
              "size": 10,
              "solidity": 0.2
             }
            },
            "type": "histogram"
           }
          ],
          "histogram2d": [
           {
            "colorbar": {
             "outlinewidth": 0,
             "ticks": ""
            },
            "colorscale": [
             [
              0,
              "#0d0887"
             ],
             [
              0.1111111111111111,
              "#46039f"
             ],
             [
              0.2222222222222222,
              "#7201a8"
             ],
             [
              0.3333333333333333,
              "#9c179e"
             ],
             [
              0.4444444444444444,
              "#bd3786"
             ],
             [
              0.5555555555555556,
              "#d8576b"
             ],
             [
              0.6666666666666666,
              "#ed7953"
             ],
             [
              0.7777777777777778,
              "#fb9f3a"
             ],
             [
              0.8888888888888888,
              "#fdca26"
             ],
             [
              1,
              "#f0f921"
             ]
            ],
            "type": "histogram2d"
           }
          ],
          "histogram2dcontour": [
           {
            "colorbar": {
             "outlinewidth": 0,
             "ticks": ""
            },
            "colorscale": [
             [
              0,
              "#0d0887"
             ],
             [
              0.1111111111111111,
              "#46039f"
             ],
             [
              0.2222222222222222,
              "#7201a8"
             ],
             [
              0.3333333333333333,
              "#9c179e"
             ],
             [
              0.4444444444444444,
              "#bd3786"
             ],
             [
              0.5555555555555556,
              "#d8576b"
             ],
             [
              0.6666666666666666,
              "#ed7953"
             ],
             [
              0.7777777777777778,
              "#fb9f3a"
             ],
             [
              0.8888888888888888,
              "#fdca26"
             ],
             [
              1,
              "#f0f921"
             ]
            ],
            "type": "histogram2dcontour"
           }
          ],
          "mesh3d": [
           {
            "colorbar": {
             "outlinewidth": 0,
             "ticks": ""
            },
            "type": "mesh3d"
           }
          ],
          "parcoords": [
           {
            "line": {
             "colorbar": {
              "outlinewidth": 0,
              "ticks": ""
             }
            },
            "type": "parcoords"
           }
          ],
          "pie": [
           {
            "automargin": true,
            "type": "pie"
           }
          ],
          "scatter": [
           {
            "fillpattern": {
             "fillmode": "overlay",
             "size": 10,
             "solidity": 0.2
            },
            "type": "scatter"
           }
          ],
          "scatter3d": [
           {
            "line": {
             "colorbar": {
              "outlinewidth": 0,
              "ticks": ""
             }
            },
            "marker": {
             "colorbar": {
              "outlinewidth": 0,
              "ticks": ""
             }
            },
            "type": "scatter3d"
           }
          ],
          "scattercarpet": [
           {
            "marker": {
             "colorbar": {
              "outlinewidth": 0,
              "ticks": ""
             }
            },
            "type": "scattercarpet"
           }
          ],
          "scattergeo": [
           {
            "marker": {
             "colorbar": {
              "outlinewidth": 0,
              "ticks": ""
             }
            },
            "type": "scattergeo"
           }
          ],
          "scattergl": [
           {
            "marker": {
             "colorbar": {
              "outlinewidth": 0,
              "ticks": ""
             }
            },
            "type": "scattergl"
           }
          ],
          "scattermap": [
           {
            "marker": {
             "colorbar": {
              "outlinewidth": 0,
              "ticks": ""
             }
            },
            "type": "scattermap"
           }
          ],
          "scattermapbox": [
           {
            "marker": {
             "colorbar": {
              "outlinewidth": 0,
              "ticks": ""
             }
            },
            "type": "scattermapbox"
           }
          ],
          "scatterpolar": [
           {
            "marker": {
             "colorbar": {
              "outlinewidth": 0,
              "ticks": ""
             }
            },
            "type": "scatterpolar"
           }
          ],
          "scatterpolargl": [
           {
            "marker": {
             "colorbar": {
              "outlinewidth": 0,
              "ticks": ""
             }
            },
            "type": "scatterpolargl"
           }
          ],
          "scatterternary": [
           {
            "marker": {
             "colorbar": {
              "outlinewidth": 0,
              "ticks": ""
             }
            },
            "type": "scatterternary"
           }
          ],
          "surface": [
           {
            "colorbar": {
             "outlinewidth": 0,
             "ticks": ""
            },
            "colorscale": [
             [
              0,
              "#0d0887"
             ],
             [
              0.1111111111111111,
              "#46039f"
             ],
             [
              0.2222222222222222,
              "#7201a8"
             ],
             [
              0.3333333333333333,
              "#9c179e"
             ],
             [
              0.4444444444444444,
              "#bd3786"
             ],
             [
              0.5555555555555556,
              "#d8576b"
             ],
             [
              0.6666666666666666,
              "#ed7953"
             ],
             [
              0.7777777777777778,
              "#fb9f3a"
             ],
             [
              0.8888888888888888,
              "#fdca26"
             ],
             [
              1,
              "#f0f921"
             ]
            ],
            "type": "surface"
           }
          ],
          "table": [
           {
            "cells": {
             "fill": {
              "color": "#EBF0F8"
             },
             "line": {
              "color": "white"
             }
            },
            "header": {
             "fill": {
              "color": "#C8D4E3"
             },
             "line": {
              "color": "white"
             }
            },
            "type": "table"
           }
          ]
         },
         "layout": {
          "annotationdefaults": {
           "arrowcolor": "#2a3f5f",
           "arrowhead": 0,
           "arrowwidth": 1
          },
          "autotypenumbers": "strict",
          "coloraxis": {
           "colorbar": {
            "outlinewidth": 0,
            "ticks": ""
           }
          },
          "colorscale": {
           "diverging": [
            [
             0,
             "#8e0152"
            ],
            [
             0.1,
             "#c51b7d"
            ],
            [
             0.2,
             "#de77ae"
            ],
            [
             0.3,
             "#f1b6da"
            ],
            [
             0.4,
             "#fde0ef"
            ],
            [
             0.5,
             "#f7f7f7"
            ],
            [
             0.6,
             "#e6f5d0"
            ],
            [
             0.7,
             "#b8e186"
            ],
            [
             0.8,
             "#7fbc41"
            ],
            [
             0.9,
             "#4d9221"
            ],
            [
             1,
             "#276419"
            ]
           ],
           "sequential": [
            [
             0,
             "#0d0887"
            ],
            [
             0.1111111111111111,
             "#46039f"
            ],
            [
             0.2222222222222222,
             "#7201a8"
            ],
            [
             0.3333333333333333,
             "#9c179e"
            ],
            [
             0.4444444444444444,
             "#bd3786"
            ],
            [
             0.5555555555555556,
             "#d8576b"
            ],
            [
             0.6666666666666666,
             "#ed7953"
            ],
            [
             0.7777777777777778,
             "#fb9f3a"
            ],
            [
             0.8888888888888888,
             "#fdca26"
            ],
            [
             1,
             "#f0f921"
            ]
           ],
           "sequentialminus": [
            [
             0,
             "#0d0887"
            ],
            [
             0.1111111111111111,
             "#46039f"
            ],
            [
             0.2222222222222222,
             "#7201a8"
            ],
            [
             0.3333333333333333,
             "#9c179e"
            ],
            [
             0.4444444444444444,
             "#bd3786"
            ],
            [
             0.5555555555555556,
             "#d8576b"
            ],
            [
             0.6666666666666666,
             "#ed7953"
            ],
            [
             0.7777777777777778,
             "#fb9f3a"
            ],
            [
             0.8888888888888888,
             "#fdca26"
            ],
            [
             1,
             "#f0f921"
            ]
           ]
          },
          "colorway": [
           "#636efa",
           "#EF553B",
           "#00cc96",
           "#ab63fa",
           "#FFA15A",
           "#19d3f3",
           "#FF6692",
           "#B6E880",
           "#FF97FF",
           "#FECB52"
          ],
          "font": {
           "color": "#2a3f5f"
          },
          "geo": {
           "bgcolor": "white",
           "lakecolor": "white",
           "landcolor": "#E5ECF6",
           "showlakes": true,
           "showland": true,
           "subunitcolor": "white"
          },
          "hoverlabel": {
           "align": "left"
          },
          "hovermode": "closest",
          "mapbox": {
           "style": "light"
          },
          "paper_bgcolor": "white",
          "plot_bgcolor": "#E5ECF6",
          "polar": {
           "angularaxis": {
            "gridcolor": "white",
            "linecolor": "white",
            "ticks": ""
           },
           "bgcolor": "#E5ECF6",
           "radialaxis": {
            "gridcolor": "white",
            "linecolor": "white",
            "ticks": ""
           }
          },
          "scene": {
           "xaxis": {
            "backgroundcolor": "#E5ECF6",
            "gridcolor": "white",
            "gridwidth": 2,
            "linecolor": "white",
            "showbackground": true,
            "ticks": "",
            "zerolinecolor": "white"
           },
           "yaxis": {
            "backgroundcolor": "#E5ECF6",
            "gridcolor": "white",
            "gridwidth": 2,
            "linecolor": "white",
            "showbackground": true,
            "ticks": "",
            "zerolinecolor": "white"
           },
           "zaxis": {
            "backgroundcolor": "#E5ECF6",
            "gridcolor": "white",
            "gridwidth": 2,
            "linecolor": "white",
            "showbackground": true,
            "ticks": "",
            "zerolinecolor": "white"
           }
          },
          "shapedefaults": {
           "line": {
            "color": "#2a3f5f"
           }
          },
          "ternary": {
           "aaxis": {
            "gridcolor": "white",
            "linecolor": "white",
            "ticks": ""
           },
           "baxis": {
            "gridcolor": "white",
            "linecolor": "white",
            "ticks": ""
           },
           "bgcolor": "#E5ECF6",
           "caxis": {
            "gridcolor": "white",
            "linecolor": "white",
            "ticks": ""
           }
          },
          "title": {
           "x": 0.05
          },
          "xaxis": {
           "automargin": true,
           "gridcolor": "white",
           "linecolor": "white",
           "ticks": "",
           "title": {
            "standoff": 15
           },
           "zerolinecolor": "white",
           "zerolinewidth": 2
          },
          "yaxis": {
           "automargin": true,
           "gridcolor": "white",
           "linecolor": "white",
           "ticks": "",
           "title": {
            "standoff": 15
           },
           "zerolinecolor": "white",
           "zerolinewidth": 2
          }
         }
        },
        "title": {
         "text": "세계 좌표계에서 객체와 카메라 (카메라 xyz 좌표계 포함)"
        }
       }
      }
     },
     "metadata": {},
     "output_type": "display_data"
    }
   ],
   "source": [
    "cameras = []\n",
    "for mat in matrix_world:\n",
    "    cameras.append(mat)\n",
    "plot_cameras_and_object(object_pos, cameras, axis_lim=2)"
   ]
  }
 ],
 "metadata": {
  "kernelspec": {
   "display_name": "base",
   "language": "python",
   "name": "python3"
  },
  "language_info": {
   "codemirror_mode": {
    "name": "ipython",
    "version": 3
   },
   "file_extension": ".py",
   "mimetype": "text/x-python",
   "name": "python",
   "nbconvert_exporter": "python",
   "pygments_lexer": "ipython3",
   "version": "3.10.14"
  }
 },
 "nbformat": 4,
 "nbformat_minor": 5
}
