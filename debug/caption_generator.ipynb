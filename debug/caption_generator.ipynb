{
 "cells": [
  {
   "cell_type": "markdown",
   "id": "7ffa22b7",
   "metadata": {},
   "source": [
    "- source RGB image를 기반으로 text caption을 generate하기\n",
    "    - 선결 조건 dataframe이 잘 정의 되어 있고 여기에 write를 할 예정이다. "
   ]
  },
  {
   "cell_type": "code",
   "execution_count": null,
   "id": "1e41946e",
   "metadata": {},
   "outputs": [],
   "source": [
    "#"
   ]
  },
  {
   "cell_type": "code",
   "execution_count": null,
   "id": "4b4fcc25",
   "metadata": {},
   "outputs": [],
   "source": []
  }
 ],
 "metadata": {
  "language_info": {
   "name": "python"
  }
 },
 "nbformat": 4,
 "nbformat_minor": 5
}
