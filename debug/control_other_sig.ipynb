{
 "cells": [
  {
   "cell_type": "markdown",
   "id": "415bf3e6",
   "metadata": {},
   "source": [
    "- 현재 canny edge signal에 conditioning을 하는 것은 잘 되어 있다.\n",
    "- 따라서, normal이나 depth에 대해서도 conditioning을 하고자 한다."
   ]
  }
 ],
 "metadata": {
  "kernelspec": {
   "display_name": "base",
   "language": "python",
   "name": "python3"
  },
  "language_info": {
   "name": "python",
   "version": "3.10.14"
  }
 },
 "nbformat": 4,
 "nbformat_minor": 5
}
