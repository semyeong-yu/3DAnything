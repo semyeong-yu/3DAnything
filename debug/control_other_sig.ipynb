{
 "cells": [
  {
   "cell_type": "markdown",
   "id": "415bf3e6",
   "metadata": {},
   "source": [
    "- 현재 canny edge signal에 conditioning을 하는 것은 잘 되어 있다.\n",
    "- 따라서, normal이나 depth에 대해서도 conditioning을 하고자 한다."
   ]
  }
 ],
 "metadata": {
  "language_info": {
   "name": "python"
  }
 },
 "nbformat": 4,
 "nbformat_minor": 5
}
