{
 "cells": [
  {
   "cell_type": "markdown",
   "id": "415bf3e6",
   "metadata": {},
   "source": [
    "- 현재 canny edge signal에 conditioning을 하는 것은 잘 되어 있다.\n",
    "- 따라서, normal이나 depth에 대해서도 conditioning을 하고자 한다."
   ]
  },
  {
   "cell_type": "code",
   "execution_count": 1,
   "id": "3d7133ea",
   "metadata": {},
   "outputs": [],
   "source": [
    "%load_ext autoreload\n",
    "%autoreload 2"
   ]
  },
  {
   "cell_type": "code",
   "execution_count": 30,
   "id": "54d37bf7",
   "metadata": {},
   "outputs": [],
   "source": [
    "import os\n",
    "import torch\n",
    "from transformers import AutoTokenizer, AutoModel\n",
    "import torchvision.transforms as T\n",
    "from PIL import Image\n",
    "from torchvision.transforms.functional import InterpolationMode\n",
    "import pandas as pd\n",
    "from sklearn.model_selection import train_test_split\n",
    "\n",
    "\n",
    "import numpy as np\n"
   ]
  },
  {
   "cell_type": "code",
   "execution_count": 4,
   "id": "7b8d3155",
   "metadata": {},
   "outputs": [],
   "source": [
    "# text dataset 가져오기\n",
    "text_path = \"/workspace/code/3DAnything/debug/data/captions.csv\""
   ]
  },
  {
   "cell_type": "code",
   "execution_count": 5,
   "id": "cee9e150",
   "metadata": {},
   "outputs": [],
   "source": [
    "loaded_df = pd.read_csv(text_path)"
   ]
  },
  {
   "cell_type": "code",
   "execution_count": 7,
   "id": "b78afd38",
   "metadata": {},
   "outputs": [
    {
     "data": {
      "text/html": [
       "<div>\n",
       "<style scoped>\n",
       "    .dataframe tbody tr th:only-of-type {\n",
       "        vertical-align: middle;\n",
       "    }\n",
       "\n",
       "    .dataframe tbody tr th {\n",
       "        vertical-align: top;\n",
       "    }\n",
       "\n",
       "    .dataframe thead th {\n",
       "        text-align: right;\n",
       "    }\n",
       "</style>\n",
       "<table border=\"1\" class=\"dataframe\">\n",
       "  <thead>\n",
       "    <tr style=\"text-align: right;\">\n",
       "      <th></th>\n",
       "      <th>meta_class</th>\n",
       "      <th>class</th>\n",
       "      <th>dataset_type</th>\n",
       "      <th>base_name</th>\n",
       "      <th>caption</th>\n",
       "    </tr>\n",
       "  </thead>\n",
       "  <tbody>\n",
       "    <tr>\n",
       "      <th>0</th>\n",
       "      <td>n02988304</td>\n",
       "      <td>dcb921b4517a45db8853bfdd4d0cafdc</td>\n",
       "      <td>image_render</td>\n",
       "      <td>000.png</td>\n",
       "      <td>The image shows a black external CD-ROM drive ...</td>\n",
       "    </tr>\n",
       "    <tr>\n",
       "      <th>1</th>\n",
       "      <td>n02988304</td>\n",
       "      <td>dcb921b4517a45db8853bfdd4d0cafdc</td>\n",
       "      <td>image_render</td>\n",
       "      <td>001.png</td>\n",
       "      <td>The image shows a black, cube-shaped electroni...</td>\n",
       "    </tr>\n",
       "    <tr>\n",
       "      <th>2</th>\n",
       "      <td>n02988304</td>\n",
       "      <td>dcb921b4517a45db8853bfdd4d0cafdc</td>\n",
       "      <td>image_render</td>\n",
       "      <td>002.png</td>\n",
       "      <td>The image shows a black stylus or pen-like dev...</td>\n",
       "    </tr>\n",
       "    <tr>\n",
       "      <th>3</th>\n",
       "      <td>n02988304</td>\n",
       "      <td>dcb921b4517a45db8853bfdd4d0cafdc</td>\n",
       "      <td>image_render</td>\n",
       "      <td>003.png</td>\n",
       "      <td>The image shows a black projector with a circu...</td>\n",
       "    </tr>\n",
       "    <tr>\n",
       "      <th>4</th>\n",
       "      <td>n02988304</td>\n",
       "      <td>dcb921b4517a45db8853bfdd4d0cafdc</td>\n",
       "      <td>image_render</td>\n",
       "      <td>004.png</td>\n",
       "      <td>The image shows a black Apple PowerCD external...</td>\n",
       "    </tr>\n",
       "    <tr>\n",
       "      <th>...</th>\n",
       "      <td>...</td>\n",
       "      <td>...</td>\n",
       "      <td>...</td>\n",
       "      <td>...</td>\n",
       "      <td>...</td>\n",
       "    </tr>\n",
       "    <tr>\n",
       "      <th>45389</th>\n",
       "      <td>n02441942</td>\n",
       "      <td>96f9026ddace492b8a3945c1f7c7d35d</td>\n",
       "      <td>image_render</td>\n",
       "      <td>010.png</td>\n",
       "      <td>The image is a simple, stylized, gray 3D model...</td>\n",
       "    </tr>\n",
       "    <tr>\n",
       "      <th>45390</th>\n",
       "      <td>n02441942</td>\n",
       "      <td>96f9026ddace492b8a3945c1f7c7d35d</td>\n",
       "      <td>image_render</td>\n",
       "      <td>011.png</td>\n",
       "      <td>The image shows a gray silhouette of a worm ag...</td>\n",
       "    </tr>\n",
       "    <tr>\n",
       "      <th>45391</th>\n",
       "      <td>n02441942</td>\n",
       "      <td>96f9026ddace492b8a3945c1f7c7d35d</td>\n",
       "      <td>image_render</td>\n",
       "      <td>012.png</td>\n",
       "      <td>The image shows a 3D model of a low-poly antea...</td>\n",
       "    </tr>\n",
       "    <tr>\n",
       "      <th>45392</th>\n",
       "      <td>n02441942</td>\n",
       "      <td>96f9026ddace492b8a3945c1f7c7d35d</td>\n",
       "      <td>image_render</td>\n",
       "      <td>013.png</td>\n",
       "      <td>The image is a simple, gray 3D model of an ani...</td>\n",
       "    </tr>\n",
       "    <tr>\n",
       "      <th>45393</th>\n",
       "      <td>n02441942</td>\n",
       "      <td>96f9026ddace492b8a3945c1f7c7d35d</td>\n",
       "      <td>image_render</td>\n",
       "      <td>014.png</td>\n",
       "      <td>The image shows a white outline of an animal r...</td>\n",
       "    </tr>\n",
       "  </tbody>\n",
       "</table>\n",
       "<p>45394 rows × 5 columns</p>\n",
       "</div>"
      ],
      "text/plain": [
       "      meta_class                             class  dataset_type base_name  \\\n",
       "0      n02988304  dcb921b4517a45db8853bfdd4d0cafdc  image_render   000.png   \n",
       "1      n02988304  dcb921b4517a45db8853bfdd4d0cafdc  image_render   001.png   \n",
       "2      n02988304  dcb921b4517a45db8853bfdd4d0cafdc  image_render   002.png   \n",
       "3      n02988304  dcb921b4517a45db8853bfdd4d0cafdc  image_render   003.png   \n",
       "4      n02988304  dcb921b4517a45db8853bfdd4d0cafdc  image_render   004.png   \n",
       "...          ...                               ...           ...       ...   \n",
       "45389  n02441942  96f9026ddace492b8a3945c1f7c7d35d  image_render   010.png   \n",
       "45390  n02441942  96f9026ddace492b8a3945c1f7c7d35d  image_render   011.png   \n",
       "45391  n02441942  96f9026ddace492b8a3945c1f7c7d35d  image_render   012.png   \n",
       "45392  n02441942  96f9026ddace492b8a3945c1f7c7d35d  image_render   013.png   \n",
       "45393  n02441942  96f9026ddace492b8a3945c1f7c7d35d  image_render   014.png   \n",
       "\n",
       "                                                 caption  \n",
       "0      The image shows a black external CD-ROM drive ...  \n",
       "1      The image shows a black, cube-shaped electroni...  \n",
       "2      The image shows a black stylus or pen-like dev...  \n",
       "3      The image shows a black projector with a circu...  \n",
       "4      The image shows a black Apple PowerCD external...  \n",
       "...                                                  ...  \n",
       "45389  The image is a simple, stylized, gray 3D model...  \n",
       "45390  The image shows a gray silhouette of a worm ag...  \n",
       "45391  The image shows a 3D model of a low-poly antea...  \n",
       "45392  The image is a simple, gray 3D model of an ani...  \n",
       "45393  The image shows a white outline of an animal r...  \n",
       "\n",
       "[45394 rows x 5 columns]"
      ]
     },
     "execution_count": 7,
     "metadata": {},
     "output_type": "execute_result"
    }
   ],
   "source": [
    "loaded_df"
   ]
  },
  {
   "cell_type": "code",
   "execution_count": 9,
   "id": "8cfe1f86",
   "metadata": {},
   "outputs": [],
   "source": [
    "test_string = \"n01440764/09f07baa8fa9496994aef0693ac7bec8/image_render/000.png\"\n",
    "test_string_split = test_string.split(\"/\")"
   ]
  },
  {
   "cell_type": "code",
   "execution_count": null,
   "id": "4ec0421f",
   "metadata": {},
   "outputs": [
    {
     "data": {
      "text/plain": [
       "'The image shows a silver-colored fish with a distinctive hump on its head, likely a Batfish, against a black background. The fish has long, flowing fins and a unique body shape. There is a small \"Fish Puzzle\" logo in the bottom left corner.'"
      ]
     },
     "execution_count": 15,
     "metadata": {},
     "output_type": "execute_result"
    }
   ],
   "source": [
    "loaded_df[\n",
    "    (loaded_df[\"base_name\"] == test_string_split[-1]) & \n",
    "    (loaded_df[\"class\"] == test_string_split[-3])\n",
    "][\"caption\"].values[0]"
   ]
  },
  {
   "cell_type": "markdown",
   "id": "3f95b3d4",
   "metadata": {},
   "source": [
    "# dataset 정의\n"
   ]
  },
  {
   "cell_type": "code",
   "execution_count": 28,
   "id": "85355c55",
   "metadata": {},
   "outputs": [],
   "source": [
    "df = loaded_df.copy()\n",
    "df['combined'] = df['meta_class'].astype(str) + '/' + df['class'].astype(str)\n",
    "dataset_arr = df['combined'].unique()"
   ]
  },
  {
   "cell_type": "code",
   "execution_count": 31,
   "id": "bfc693f0",
   "metadata": {},
   "outputs": [],
   "source": [
    "train_arr, val_arr = train_test_split(dataset_arr, test_size=0.1, random_state=42)\n",
    "# Train 파일 저장\n",
    "with open('train.txt', 'w') as f:\n",
    "    for item in train_arr:\n",
    "        f.write(\"%s\\n\" % item)\n",
    "\n",
    "# Validation 파일 저장\n",
    "with open('val.txt', 'w') as f:\n",
    "    for item in val_arr:\n",
    "        f.write(\"%s\\n\" % item)"
   ]
  },
  {
   "cell_type": "code",
   "execution_count": null,
   "id": "083ee57e",
   "metadata": {},
   "outputs": [],
   "source": []
  },
  {
   "cell_type": "code",
   "execution_count": 27,
   "id": "7f61df45",
   "metadata": {},
   "outputs": [
    {
     "data": {
      "text/plain": [
       "array(['n02988304/dcb921b4517a45db8853bfdd4d0cafdc',\n",
       "       'n02988304/a4bc4accb20b43ffa728a7a85b7dfed7',\n",
       "       'n02988304/7e12ac07201647debdada98877db130a', ...,\n",
       "       'n02441942/8aa30bf875a0440cb763914baa8659b6',\n",
       "       'n02441942/dac05797fdd74dd482b024595ff35d03',\n",
       "       'n02441942/96f9026ddace492b8a3945c1f7c7d35d'], dtype=object)"
      ]
     },
     "execution_count": 27,
     "metadata": {},
     "output_type": "execute_result"
    }
   ],
   "source": [
    "df[\"combined\"].unique()"
   ]
  }
 ],
 "metadata": {
  "kernelspec": {
   "display_name": "base",
   "language": "python",
   "name": "python3"
  },
  "language_info": {
   "codemirror_mode": {
    "name": "ipython",
    "version": 3
   },
   "file_extension": ".py",
   "mimetype": "text/x-python",
   "name": "python",
   "nbconvert_exporter": "python",
   "pygments_lexer": "ipython3",
   "version": "3.10.14"
  }
 },
 "nbformat": 4,
 "nbformat_minor": 5
}
