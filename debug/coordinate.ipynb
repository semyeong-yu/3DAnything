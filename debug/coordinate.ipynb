{
 "cells": [
  {
   "cell_type": "markdown",
   "id": "300ac466",
   "metadata": {},
   "source": [
    "- camera coordinate의 검증\n",
    "- dataset의 skeleton에 대한 검증\n",
    "    - 몇개의 class로 구성이 되어있는지\n",
    "    - class 당 몇개의 image로 구성이 되어 있는 지\n",
    "    - 필요한 것 LLM을 통하여 vision conditioned caption을 다양하게 뽑아줄 필요가 있다. 다만, 어느 정도 성능이 좋은 것으로 pipelining해서 해야한다.\n",
    "    - 이후에 dataloader 구조에 대해서 dataframe으로 composite하기\n"
   ]
  }
 ],
 "metadata": {
  "language_info": {
   "name": "python"
  }
 },
 "nbformat": 4,
 "nbformat_minor": 5
}
