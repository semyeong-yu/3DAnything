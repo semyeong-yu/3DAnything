{
 "cells": [
  {
   "cell_type": "markdown",
   "id": "4edb51a4",
   "metadata": {},
   "source": [
    "- dataset을 분석하기 위한 코드 부분\n",
    "    - LLM caption들을 여기에 저장할 것이다."
   ]
  },
  {
   "cell_type": "code",
   "execution_count": 17,
   "metadata": {},
   "outputs": [],
   "source": [
    "import os\n",
    "import pandas as pd\n",
    "import numpy as np"
   ]
  },
  {
   "cell_type": "code",
   "execution_count": 59,
   "id": "2f854d7b",
   "metadata": {},
   "outputs": [],
   "source": [
    "# dataset main path\n",
    "data_root = \"/workspace/data/3ddst/train\"\n",
    "dataset_types = [\"annotation\", \"cannyedge_render\", \"depth\", \"image_render\", \"normal_render\", \"caption\"]"
   ]
  },
  {
   "cell_type": "code",
   "execution_count": 60,
   "id": "585640b6",
   "metadata": {},
   "outputs": [
    {
     "name": "stdout",
     "output_type": "stream",
     "text": [
      "Found 498 meta classes in the dataset.\n"
     ]
    }
   ],
   "source": [
    "meta_class_list = [\n",
    "    d for d in os.listdir(data_root)\n",
    "    if os.path.isdir(os.path.join(data_root, d)) \n",
    "]\n",
    "print(f\"Found {len(meta_class_list)} meta classes in the dataset.\")"
   ]
  },
  {
   "cell_type": "code",
   "execution_count": 45,
   "id": "fba8c824",
   "metadata": {},
   "outputs": [
    {
     "name": "stdout",
     "output_type": "stream",
     "text": [
      "Warning: No valid classes found in meta class 'n02971356'.\n"
     ]
    }
   ],
   "source": [
    "class_dict = {\n",
    "}  # {key: meta_class, vaue: class_list}\n",
    "class_list = []  # concatenated list of all classes\n",
    "\n",
    "for each_meta_class in meta_class_list:\n",
    "    class_path = os.path.join(data_root, each_meta_class)\n",
    "    valid_sub_classes = []\n",
    "    for each_class in os.listdir(class_path):\n",
    "        if not os.path.isdir(class_path):\n",
    "            continue\n",
    "        # currently to save pose as .npy in annotation folder\n",
    "        annot_path = os.path.join(class_path, each_class, \"annotation\")\n",
    "        if os.path.exists(annot_path):\n",
    "            annotation_files = [f for f in os.listdir(\n",
    "                annot_path) if f.endswith(\".npy\")]\n",
    "            if len(annotation_files) > 1:  # Requirement 4: Exclude if 1 or fewer files\n",
    "                valid_sub_classes.append(each_class)\n",
    "        \n",
    "        class_dict[each_meta_class] = valid_sub_classes\n",
    "        class_list.extend(valid_sub_classes)\n",
    "    \n",
    "    if len(valid_sub_classes) == 0:\n",
    "        print(f\"Warning: No valid classes found in meta class '{each_meta_class}'.\")\n",
    "        del class_dict[each_meta_class]\n",
    "        meta_class_list.remove(each_meta_class)"
   ]
  },
  {
   "cell_type": "code",
   "execution_count": 46,
   "id": "60021162",
   "metadata": {},
   "outputs": [
    {
     "name": "stdout",
     "output_type": "stream",
     "text": [
      "Total number of classes: 28511 Average number of classes per meta class: 9.24 standard deviation: 3.59 median: 9.00 min: 1.00 max: 21.00 \n"
     ]
    }
   ],
   "source": [
    "# statistics per meta class\n",
    "class_numbers = {\n",
    "    k: len(v) for k, v in class_dict.items()    \n",
    "}\n",
    "class_num_list = np.array([v for v in class_numbers.values()])\n",
    "print(\n",
    "    f\"Total number of classes: {len(class_list)} \"\n",
    "    f\"Average number of classes per meta class: {np.mean(class_num_list):.2f} \"\n",
    "    f\"standard deviation: {np.std(class_num_list):.2f} \"\n",
    "    f\"median: {np.median(class_num_list):.2f} \"\n",
    "    f\"min: {np.min(class_num_list):.2f} \"\n",
    "    f\"max: {np.max(class_num_list):.2f} \"\n",
    "    ,sep=\"\\n\"\n",
    ")\n",
    "# 특수한 경우 발견, n02971356, validd sub class가 하나도 없는 경우"
   ]
  },
  {
   "cell_type": "code",
   "execution_count": 77,
   "id": "d195ee6e",
   "metadata": {},
   "outputs": [],
   "source": [
    "# dataframe construction\n",
    "data = []\n",
    "for each_meta_class, each_class_list in class_dict.items():\n",
    "    for each_class in each_class_list:\n",
    "        sub_class_path = os.path.join(data_root, each_meta_class, each_class)\n",
    "        for dataset_type in dataset_types:\n",
    "            dataset_path = os.path.join(sub_class_path, dataset_type)\n",
    "            if os.path.exists(dataset_path):\n",
    "                base_names = sorted([f for f in os.listdir(dataset_path)])\n",
    "            else:\n",
    "                base_names = []\n",
    "            data.append({\"class\": each_class, \"dataset_type\": dataset_type, \"value\": base_names})\n",
    "\n",
    "df = pd.DataFrame(data)\n",
    "# df.set_index([\"class\", \"dataset_type\"], inplace=True)\n",
    "df.to_csv(os.path.join(\"./data\", \"3ddst.csv\"), index=False)"
   ]
  },
  {
   "cell_type": "code",
   "execution_count": 78,
   "id": "14ac5a51",
   "metadata": {},
   "outputs": [
    {
     "data": {
      "text/html": [
       "<div>\n",
       "<style scoped>\n",
       "    .dataframe tbody tr th:only-of-type {\n",
       "        vertical-align: middle;\n",
       "    }\n",
       "\n",
       "    .dataframe tbody tr th {\n",
       "        vertical-align: top;\n",
       "    }\n",
       "\n",
       "    .dataframe thead th {\n",
       "        text-align: right;\n",
       "    }\n",
       "</style>\n",
       "<table border=\"1\" class=\"dataframe\">\n",
       "  <thead>\n",
       "    <tr style=\"text-align: right;\">\n",
       "      <th></th>\n",
       "      <th>class</th>\n",
       "      <th>dataset_type</th>\n",
       "      <th>value</th>\n",
       "    </tr>\n",
       "  </thead>\n",
       "  <tbody>\n",
       "    <tr>\n",
       "      <th>0</th>\n",
       "      <td>dcb921b4517a45db8853bfdd4d0cafdc</td>\n",
       "      <td>annotation</td>\n",
       "      <td>[000.npy, 001.npy, 002.npy, 003.npy, 004.npy, ...</td>\n",
       "    </tr>\n",
       "    <tr>\n",
       "      <th>1</th>\n",
       "      <td>dcb921b4517a45db8853bfdd4d0cafdc</td>\n",
       "      <td>cannyedge_render</td>\n",
       "      <td>[000.png, 001.png, 002.png, 003.png, 004.png, ...</td>\n",
       "    </tr>\n",
       "    <tr>\n",
       "      <th>2</th>\n",
       "      <td>dcb921b4517a45db8853bfdd4d0cafdc</td>\n",
       "      <td>depth</td>\n",
       "      <td>[000.exr, 001.exr, 002.exr, 003.exr, 004.exr, ...</td>\n",
       "    </tr>\n",
       "    <tr>\n",
       "      <th>3</th>\n",
       "      <td>dcb921b4517a45db8853bfdd4d0cafdc</td>\n",
       "      <td>image_render</td>\n",
       "      <td>[000.png, 001.png, 002.png, 003.png, 004.png, ...</td>\n",
       "    </tr>\n",
       "    <tr>\n",
       "      <th>4</th>\n",
       "      <td>dcb921b4517a45db8853bfdd4d0cafdc</td>\n",
       "      <td>normal_render</td>\n",
       "      <td>[000.png, 001.png, 002.png, 003.png, 004.png, ...</td>\n",
       "    </tr>\n",
       "    <tr>\n",
       "      <th>5</th>\n",
       "      <td>dcb921b4517a45db8853bfdd4d0cafdc</td>\n",
       "      <td>caption</td>\n",
       "      <td>[]</td>\n",
       "    </tr>\n",
       "  </tbody>\n",
       "</table>\n",
       "</div>"
      ],
      "text/plain": [
       "                              class      dataset_type  \\\n",
       "0  dcb921b4517a45db8853bfdd4d0cafdc        annotation   \n",
       "1  dcb921b4517a45db8853bfdd4d0cafdc  cannyedge_render   \n",
       "2  dcb921b4517a45db8853bfdd4d0cafdc             depth   \n",
       "3  dcb921b4517a45db8853bfdd4d0cafdc      image_render   \n",
       "4  dcb921b4517a45db8853bfdd4d0cafdc     normal_render   \n",
       "5  dcb921b4517a45db8853bfdd4d0cafdc           caption   \n",
       "\n",
       "                                               value  \n",
       "0  [000.npy, 001.npy, 002.npy, 003.npy, 004.npy, ...  \n",
       "1  [000.png, 001.png, 002.png, 003.png, 004.png, ...  \n",
       "2  [000.exr, 001.exr, 002.exr, 003.exr, 004.exr, ...  \n",
       "3  [000.png, 001.png, 002.png, 003.png, 004.png, ...  \n",
       "4  [000.png, 001.png, 002.png, 003.png, 004.png, ...  \n",
       "5                                                 []  "
      ]
     },
     "execution_count": 78,
     "metadata": {},
     "output_type": "execute_result"
    }
   ],
   "source": [
    "df[df[\"class\"] == \"dcb921b4517a45db8853bfdd4d0cafdc\"]"
   ]
  }
 ],
 "metadata": {
  "kernelspec": {
   "display_name": "base",
   "language": "python",
   "name": "python3"
  },
  "language_info": {
   "codemirror_mode": {
    "name": "ipython",
    "version": 3
   },
   "file_extension": ".py",
   "mimetype": "text/x-python",
   "name": "python",
   "nbconvert_exporter": "python",
   "pygments_lexer": "ipython3",
   "version": "3.10.14"
  }
 },
 "nbformat": 4,
 "nbformat_minor": 5
}
