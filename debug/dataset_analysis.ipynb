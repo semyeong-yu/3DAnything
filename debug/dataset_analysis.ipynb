{
 "cells": [
  {
   "cell_type": "markdown",
   "id": "4edb51a4",
   "metadata": {},
   "source": [
    "- dataset을 분석하기 위한 코드 부분\n",
    "    - LLM caption들을 여기에 저장할 것이다."
   ]
  },
  {
   "cell_type": "code",
   "execution_count": null,
   "id": "14657d90",
   "metadata": {},
   "outputs": [],
   "source": []
  },
  {
   "cell_type": "code",
   "execution_count": 14,
   "metadata": {},
   "outputs": [],
   "source": [
    "import os\n",
    "import pandas as pd\n",
    "import numpy as np"
   ]
  },
  {
   "cell_type": "code",
   "execution_count": 15,
   "id": "2f854d7b",
   "metadata": {},
   "outputs": [],
   "source": [
    "# dataset main path\n",
    "data_root = \"/workspace/data/3ddst/train\"\n",
    "dataset_types = [\"annotation\", \"cannyedge_render\", \"depth\", \"image_render\", \"normal_render\"]"
   ]
  },
  {
   "cell_type": "code",
   "execution_count": 94,
   "id": "585640b6",
   "metadata": {},
   "outputs": [
    {
     "name": "stdout",
     "output_type": "stream",
     "text": [
      "Found 498 meta classes in the dataset.\n"
     ]
    }
   ],
   "source": [
    "meta_class_list = [\n",
    "    d for d in os.listdir(data_root)\n",
    "    if os.path.isdir(os.path.join(data_root, d)) \n",
    "]\n",
    "print(f\"Found {len(meta_class_list)} meta classes in the dataset.\")"
   ]
  },
  {
   "cell_type": "code",
   "execution_count": 45,
   "id": "fba8c824",
   "metadata": {},
   "outputs": [
    {
     "name": "stdout",
     "output_type": "stream",
     "text": [
      "Warning: No valid classes found in meta class 'n02971356'.\n"
     ]
    }
   ],
   "source": [
    "class_dict = {\n",
    "}  # {key: meta_class, vaue: class_list}\n",
    "class_list = []  # concatenated list of all classes\n",
    "\n",
    "for each_meta_class in meta_class_list:\n",
    "    class_path = os.path.join(data_root, each_meta_class)\n",
    "    valid_sub_classes = []\n",
    "    for each_class in os.listdir(class_path):\n",
    "        if not os.path.isdir(class_path):\n",
    "            continue\n",
    "        # currently to save pose as .npy in annotation folder\n",
    "        annot_path = os.path.join(class_path, each_class, \"annotation\")\n",
    "        if os.path.exists(annot_path):\n",
    "            annotation_files = [f for f in os.listdir(\n",
    "                annot_path) if f.endswith(\".npy\")]\n",
    "            if len(annotation_files) > 1:  # Requirement 4: Exclude if 1 or fewer files\n",
    "                valid_sub_classes.append(each_class)\n",
    "        \n",
    "        class_dict[each_meta_class] = valid_sub_classes\n",
    "        class_list.extend(valid_sub_classes)\n",
    "    \n",
    "    if len(valid_sub_classes) == 0:\n",
    "        print(f\"Warning: No valid classes found in meta class '{each_meta_class}'.\")\n",
    "        del class_dict[each_meta_class]\n",
    "        meta_class_list.remove(each_meta_class)"
   ]
  },
  {
   "cell_type": "code",
   "execution_count": null,
   "id": "60021162",
   "metadata": {},
   "outputs": [
    {
     "name": "stdout",
     "output_type": "stream",
     "text": [
      "Total number of classes: 28511 Average number of classes per meta class: 9.24 standard deviation: 3.59 median: 9.00 min: 1.00 max: 21.00 \n"
     ]
    }
   ],
   "source": [
    "# statistics per meta class\n",
    "class_numbers = {\n",
    "    k: len(v) for k, v in class_dict.items()    \n",
    "}\n",
    "class_num_list = np.array([v for v in class_numbers.values()])\n",
    "print(\n",
    "    f\"Total number of classes: {len(class_list)} \"\n",
    "    f\"Average number of classes per meta class: {np.mean(class_num_list):.2f} \"\n",
    "    f\"standard deviation: {np.std(class_num_list):.2f} \"\n",
    "    f\"median: {np.median(class_num_list):.2f} \"\n",
    "    f\"min: {np.min(class_num_list):.2f} \"\n",
    "    f\"max: {np.max(class_num_list):.2f} \"\n",
    "    ,sep=\"\\n\"\n",
    ")\n",
    "# 특수한 경우 발견, n02971356, valid sub class가 하나도 없는 경우"
   ]
  },
  {
   "cell_type": "code",
   "execution_count": 98,
   "id": "d195ee6e",
   "metadata": {},
   "outputs": [],
   "source": [
    "# dataframe construction\n",
    "data = []\n",
    "for each_meta_class, each_class_list in class_dict.items():\n",
    "    for each_class in each_class_list:\n",
    "        sub_class_path = os.path.join(data_root, each_meta_class, each_class)\n",
    "        for dataset_type in dataset_types:\n",
    "            dataset_path = os.path.join(sub_class_path, dataset_type)\n",
    "            if os.path.exists(dataset_path):\n",
    "                base_names = sorted([f for f in os.listdir(dataset_path)])\n",
    "            else:\n",
    "                base_names = []\n",
    "            data.append({\"meta_class\": each_meta_class, \"class\": each_class, \"dataset_type\": dataset_type, \"base_name\": base_names})\n",
    "\n",
    "df = pd.DataFrame(data)\n",
    "df = df.explode(\"base_name\")  # explode the list of filenames into separate rows\n",
    "# df.set_index([\"class\", \"dataset_type\"], inplace=True)\n",
    "df.to_csv(os.path.join(\"./data\", \"3ddst.csv\"), index=False)"
   ]
  },
  {
   "cell_type": "code",
   "execution_count": 1,
   "id": "f97acb6c",
   "metadata": {},
   "outputs": [
    {
     "ename": "NameError",
     "evalue": "name 'df' is not defined",
     "output_type": "error",
     "traceback": [
      "\u001b[0;31m---------------------------------------------------------------------------\u001b[0m",
      "\u001b[0;31mNameError\u001b[0m                                 Traceback (most recent call last)",
      "Cell \u001b[0;32mIn[1], line 1\u001b[0m\n\u001b[0;32m----> 1\u001b[0m \u001b[43mdf\u001b[49m\n",
      "\u001b[0;31mNameError\u001b[0m: name 'df' is not defined"
     ]
    }
   ],
   "source": [
    "df"
   ]
  },
  {
   "cell_type": "code",
   "execution_count": 90,
   "id": "14ac5a51",
   "metadata": {},
   "outputs": [
    {
     "data": {
      "text/plain": [
       "5.025"
      ]
     },
     "execution_count": 90,
     "metadata": {},
     "output_type": "execute_result"
    }
   ],
   "source": [
    "len(df) / (6 * 8 * 16 * 60)"
   ]
  },
  {
   "cell_type": "markdown",
   "id": "d3f5eac4",
   "metadata": {},
   "source": [
    "- 이제 dataloader 부분을 개조하기 위함"
   ]
  },
  {
   "cell_type": "code",
   "execution_count": 4,
   "id": "e6a8433a",
   "metadata": {},
   "outputs": [],
   "source": [
    "df_path = \"/workspace/code/3DAnything/debug/data/3ddst.csv\"\n",
    "df = pd.read_csv(df_path)"
   ]
  },
  {
   "cell_type": "code",
   "execution_count": 20,
   "id": "3737dfaf",
   "metadata": {},
   "outputs": [],
   "source": [
    "df_caption_path = \"/workspace/code/3DAnything/debug/data/captions.csv\"\n",
    "df_caption = pd.read_csv(df_caption_path)"
   ]
  },
  {
   "cell_type": "code",
   "execution_count": 30,
   "id": "8e5b0f76",
   "metadata": {},
   "outputs": [
    {
     "data": {
      "text/html": [
       "<div>\n",
       "<style scoped>\n",
       "    .dataframe tbody tr th:only-of-type {\n",
       "        vertical-align: middle;\n",
       "    }\n",
       "\n",
       "    .dataframe tbody tr th {\n",
       "        vertical-align: top;\n",
       "    }\n",
       "\n",
       "    .dataframe thead th {\n",
       "        text-align: right;\n",
       "    }\n",
       "</style>\n",
       "<table border=\"1\" class=\"dataframe\">\n",
       "  <thead>\n",
       "    <tr style=\"text-align: right;\">\n",
       "      <th></th>\n",
       "      <th>meta_class</th>\n",
       "      <th>class</th>\n",
       "      <th>dataset_type</th>\n",
       "      <th>base_name</th>\n",
       "      <th>caption</th>\n",
       "    </tr>\n",
       "  </thead>\n",
       "  <tbody>\n",
       "    <tr>\n",
       "      <th>1118</th>\n",
       "      <td>n02100735</td>\n",
       "      <td>78c2ceb1e51149698c6a8e6242d5dbb2</td>\n",
       "      <td>image_render</td>\n",
       "      <td>000.png</td>\n",
       "      <td>A figurine of a puppy standing with its head t...</td>\n",
       "    </tr>\n",
       "    <tr>\n",
       "      <th>1119</th>\n",
       "      <td>n02100735</td>\n",
       "      <td>78c2ceb1e51149698c6a8e6242d5dbb2</td>\n",
       "      <td>image_render</td>\n",
       "      <td>001.png</td>\n",
       "      <td>The image shows a sculpture of a reclining dog...</td>\n",
       "    </tr>\n",
       "    <tr>\n",
       "      <th>1120</th>\n",
       "      <td>n02100735</td>\n",
       "      <td>78c2ceb1e51149698c6a8e6242d5dbb2</td>\n",
       "      <td>image_render</td>\n",
       "      <td>002.png</td>\n",
       "      <td>The image shows a beige, possibly cream-colore...</td>\n",
       "    </tr>\n",
       "    <tr>\n",
       "      <th>1121</th>\n",
       "      <td>n02100735</td>\n",
       "      <td>78c2ceb1e51149698c6a8e6242d5dbb2</td>\n",
       "      <td>image_render</td>\n",
       "      <td>003.png</td>\n",
       "      <td>The image shows the back view of a light-color...</td>\n",
       "    </tr>\n",
       "    <tr>\n",
       "      <th>1122</th>\n",
       "      <td>n02100735</td>\n",
       "      <td>78c2ceb1e51149698c6a8e6242d5dbb2</td>\n",
       "      <td>image_render</td>\n",
       "      <td>004.png</td>\n",
       "      <td>The image shows a sculpture of a bull with exa...</td>\n",
       "    </tr>\n",
       "    <tr>\n",
       "      <th>...</th>\n",
       "      <td>...</td>\n",
       "      <td>...</td>\n",
       "      <td>...</td>\n",
       "      <td>...</td>\n",
       "      <td>...</td>\n",
       "    </tr>\n",
       "    <tr>\n",
       "      <th>44738</th>\n",
       "      <td>n02100236</td>\n",
       "      <td>78c2ceb1e51149698c6a8e6242d5dbb2</td>\n",
       "      <td>image_render</td>\n",
       "      <td>003.png</td>\n",
       "      <td>The image is of a sculpture of a dog, likely a...</td>\n",
       "    </tr>\n",
       "    <tr>\n",
       "      <th>44739</th>\n",
       "      <td>n02100236</td>\n",
       "      <td>78c2ceb1e51149698c6a8e6242d5dbb2</td>\n",
       "      <td>image_render</td>\n",
       "      <td>004.png</td>\n",
       "      <td>The image shows the back view of a puppy with ...</td>\n",
       "    </tr>\n",
       "    <tr>\n",
       "      <th>44740</th>\n",
       "      <td>n02100236</td>\n",
       "      <td>78c2ceb1e51149698c6a8e6242d5dbb2</td>\n",
       "      <td>image_render</td>\n",
       "      <td>005.png</td>\n",
       "      <td>The image shows a digital 3D model of a St. Be...</td>\n",
       "    </tr>\n",
       "    <tr>\n",
       "      <th>44741</th>\n",
       "      <td>n02100236</td>\n",
       "      <td>78c2ceb1e51149698c6a8e6242d5dbb2</td>\n",
       "      <td>image_render</td>\n",
       "      <td>006.png</td>\n",
       "      <td>The image shows a light-colored statue of a La...</td>\n",
       "    </tr>\n",
       "    <tr>\n",
       "      <th>44742</th>\n",
       "      <td>n02100236</td>\n",
       "      <td>78c2ceb1e51149698c6a8e6242d5dbb2</td>\n",
       "      <td>image_render</td>\n",
       "      <td>007.png</td>\n",
       "      <td>The image shows a sculpture of a puppy standin...</td>\n",
       "    </tr>\n",
       "  </tbody>\n",
       "</table>\n",
       "<p>299 rows × 5 columns</p>\n",
       "</div>"
      ],
      "text/plain": [
       "      meta_class                             class  dataset_type base_name  \\\n",
       "1118   n02100735  78c2ceb1e51149698c6a8e6242d5dbb2  image_render   000.png   \n",
       "1119   n02100735  78c2ceb1e51149698c6a8e6242d5dbb2  image_render   001.png   \n",
       "1120   n02100735  78c2ceb1e51149698c6a8e6242d5dbb2  image_render   002.png   \n",
       "1121   n02100735  78c2ceb1e51149698c6a8e6242d5dbb2  image_render   003.png   \n",
       "1122   n02100735  78c2ceb1e51149698c6a8e6242d5dbb2  image_render   004.png   \n",
       "...          ...                               ...           ...       ...   \n",
       "44738  n02100236  78c2ceb1e51149698c6a8e6242d5dbb2  image_render   003.png   \n",
       "44739  n02100236  78c2ceb1e51149698c6a8e6242d5dbb2  image_render   004.png   \n",
       "44740  n02100236  78c2ceb1e51149698c6a8e6242d5dbb2  image_render   005.png   \n",
       "44741  n02100236  78c2ceb1e51149698c6a8e6242d5dbb2  image_render   006.png   \n",
       "44742  n02100236  78c2ceb1e51149698c6a8e6242d5dbb2  image_render   007.png   \n",
       "\n",
       "                                                 caption  \n",
       "1118   A figurine of a puppy standing with its head t...  \n",
       "1119   The image shows a sculpture of a reclining dog...  \n",
       "1120   The image shows a beige, possibly cream-colore...  \n",
       "1121   The image shows the back view of a light-color...  \n",
       "1122   The image shows a sculpture of a bull with exa...  \n",
       "...                                                  ...  \n",
       "44738  The image is of a sculpture of a dog, likely a...  \n",
       "44739  The image shows the back view of a puppy with ...  \n",
       "44740  The image shows a digital 3D model of a St. Be...  \n",
       "44741  The image shows a light-colored statue of a La...  \n",
       "44742  The image shows a sculpture of a puppy standin...  \n",
       "\n",
       "[299 rows x 5 columns]"
      ]
     },
     "execution_count": 30,
     "metadata": {},
     "output_type": "execute_result"
    }
   ],
   "source": [
    "df_caption[df_caption[\"class\"] == \"78c2ceb1e51149698c6a8e6242d5dbb2\"]"
   ]
  },
  {
   "cell_type": "code",
   "execution_count": null,
   "id": "224bed60",
   "metadata": {},
   "outputs": [
    {
     "data": {
      "text/plain": [
       "array(['000.png', '001.png', '002.png', '003.png', '004.png', '005.png',\n",
       "       '006.png', '007.png', '008.png'], dtype=object)"
      ]
     },
     "execution_count": 25,
     "metadata": {},
     "output_type": "execute_result"
    }
   ],
   "source": [
    "df[(df[\"class\"] == \"dcb921b4517a45db8853bfdd4d0cafdc\") & (df[\"dataset_type\"] == \"image_render\")][\"base_name\"].values"
   ]
  },
  {
   "cell_type": "code",
   "execution_count": 28,
   "id": "feab7d89",
   "metadata": {},
   "outputs": [
    {
     "data": {
      "text/plain": [
       "'005.png'"
      ]
     },
     "execution_count": 28,
     "metadata": {},
     "output_type": "execute_result"
    }
   ],
   "source": [
    "a, b= np.random.choice(df[(df[\"class\"] == \"dcb921b4517a45db8853bfdd4d0cafdc\") & (df[\"dataset_type\"] == \"image_render\")][\"base_name\"].values, 2)\n",
    "a"
   ]
  },
  {
   "cell_type": "code",
   "execution_count": 1,
   "id": "c17576b4",
   "metadata": {},
   "outputs": [],
   "source": [
    "import OpenEXR\n",
    "import Imath\n",
    "import numpy as np\n",
    "import matplotlib.pyplot as plt\n",
    "\n",
    "def read_exr(file_path):\n",
    "    # Open the EXR file\n",
    "    exr_file = OpenEXR.InputFile(file_path)\n",
    "    \n",
    "    # Get the header and data window\n",
    "    header = exr_file.header()\n",
    "    dw = header['dataWindow']\n",
    "    width = dw.max.x - dw.min.x + 1\n",
    "    height = dw.max.y - dw.min.y + 1\n",
    "    \n",
    "    # Define the pixel type (FLOAT is common for EXR)\n",
    "    pt = Imath.PixelType(Imath.PixelType.FLOAT)\n",
    "    \n",
    "    # Read RGB channels\n",
    "    channels = ['R', 'G', 'B']\n",
    "    rgb = []\n",
    "    for channel in channels:\n",
    "        # Read the channel data\n",
    "        channel_data = exr_file.channel(channel, pt)\n",
    "        # Convert to numpy array\n",
    "        channel_array = np.frombuffer(channel_data, dtype=np.float32)\n",
    "        channel_array = channel_array.reshape(height, width)\n",
    "        rgb.append(channel_array)\n",
    "    \n",
    "    # Stack channels into an RGB image\n",
    "    image = np.stack(rgb, axis=-1)\n",
    "    return image\n",
    "\n",
    "def visualize_exr(image):\n",
    "    # Apply tone mapping (simple clamp for visualization)\n",
    "    # EXR images have HDR values, so we clamp to [0, 1] for display\n",
    "    image = np.clip(image, 0, 1)\n",
    "    \n",
    "    # Display the image\n",
    "    plt.figure(figsize=(8, 8))\n",
    "    plt.imshow(image)\n",
    "    plt.axis('off')\n",
    "    plt.title('EXR Image Visualization')\n",
    "    plt.show()\n"
   ]
  },
  {
   "cell_type": "code",
   "execution_count": 2,
   "id": "dff003d4",
   "metadata": {},
   "outputs": [],
   "source": [
    "d_path = \"/workspace/data/3ddst/train/n01443537/071e439aee854058946e537949bf665e/depth/000.exr\""
   ]
  },
  {
   "cell_type": "code",
   "execution_count": 3,
   "id": "8b1f8cf9",
   "metadata": {},
   "outputs": [],
   "source": [
    "exr_arr = read_exr(d_path)"
   ]
  },
  {
   "cell_type": "code",
   "execution_count": 7,
   "id": "b2e03b03",
   "metadata": {},
   "outputs": [
    {
     "data": {
      "text/plain": [
       "array([[[1.e+10, 1.e+10, 1.e+10],\n",
       "        [1.e+10, 1.e+10, 1.e+10],\n",
       "        [1.e+10, 1.e+10, 1.e+10],\n",
       "        ...,\n",
       "        [1.e+10, 1.e+10, 1.e+10],\n",
       "        [1.e+10, 1.e+10, 1.e+10],\n",
       "        [1.e+10, 1.e+10, 1.e+10]],\n",
       "\n",
       "       [[1.e+10, 1.e+10, 1.e+10],\n",
       "        [1.e+10, 1.e+10, 1.e+10],\n",
       "        [1.e+10, 1.e+10, 1.e+10],\n",
       "        ...,\n",
       "        [1.e+10, 1.e+10, 1.e+10],\n",
       "        [1.e+10, 1.e+10, 1.e+10],\n",
       "        [1.e+10, 1.e+10, 1.e+10]],\n",
       "\n",
       "       [[1.e+10, 1.e+10, 1.e+10],\n",
       "        [1.e+10, 1.e+10, 1.e+10],\n",
       "        [1.e+10, 1.e+10, 1.e+10],\n",
       "        ...,\n",
       "        [1.e+10, 1.e+10, 1.e+10],\n",
       "        [1.e+10, 1.e+10, 1.e+10],\n",
       "        [1.e+10, 1.e+10, 1.e+10]],\n",
       "\n",
       "       ...,\n",
       "\n",
       "       [[1.e+10, 1.e+10, 1.e+10],\n",
       "        [1.e+10, 1.e+10, 1.e+10],\n",
       "        [1.e+10, 1.e+10, 1.e+10],\n",
       "        ...,\n",
       "        [1.e+10, 1.e+10, 1.e+10],\n",
       "        [1.e+10, 1.e+10, 1.e+10],\n",
       "        [1.e+10, 1.e+10, 1.e+10]],\n",
       "\n",
       "       [[1.e+10, 1.e+10, 1.e+10],\n",
       "        [1.e+10, 1.e+10, 1.e+10],\n",
       "        [1.e+10, 1.e+10, 1.e+10],\n",
       "        ...,\n",
       "        [1.e+10, 1.e+10, 1.e+10],\n",
       "        [1.e+10, 1.e+10, 1.e+10],\n",
       "        [1.e+10, 1.e+10, 1.e+10]],\n",
       "\n",
       "       [[1.e+10, 1.e+10, 1.e+10],\n",
       "        [1.e+10, 1.e+10, 1.e+10],\n",
       "        [1.e+10, 1.e+10, 1.e+10],\n",
       "        ...,\n",
       "        [1.e+10, 1.e+10, 1.e+10],\n",
       "        [1.e+10, 1.e+10, 1.e+10],\n",
       "        [1.e+10, 1.e+10, 1.e+10]]], dtype=float32)"
      ]
     },
     "execution_count": 7,
     "metadata": {},
     "output_type": "execute_result"
    }
   ],
   "source": [
    "exr_arr"
   ]
  },
  {
   "cell_type": "code",
   "execution_count": 8,
   "id": "e77fa0e6",
   "metadata": {},
   "outputs": [],
   "source": [
    "exr_arr_re = np.where(exr_arr > 10**9, 0, exr_arr)  # clamp values to [0, 1] for visualization"
   ]
  },
  {
   "cell_type": "code",
   "execution_count": 10,
   "id": "99462b9c",
   "metadata": {},
   "outputs": [
    {
     "data": {
      "image/png": "[encoded data removed]",
      "text/plain": [
       "<Figure size 800x800 with 1 Axes>"
      ]
     },
     "metadata": {},
     "output_type": "display_data"
    }
   ],
   "source": [
    "visualize_exr(exr_arr_re)"
   ]
  }
 ],
 "metadata": {
  "kernelspec": {
   "display_name": "base",
   "language": "python",
   "name": "python3"
  },
  "language_info": {
   "codemirror_mode": {
    "name": "ipython",
    "version": 3
   },
   "file_extension": ".py",
   "mimetype": "text/x-python",
   "name": "python",
   "nbconvert_exporter": "python",
   "pygments_lexer": "ipython3",
   "version": "3.10.14"
  }
 },
 "nbformat": 4,
 "nbformat_minor": 5
}
